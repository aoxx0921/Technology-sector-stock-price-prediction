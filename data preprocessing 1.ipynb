{
 "cells": [
  {
   "cell_type": "code",
   "execution_count": 1,
   "metadata": {},
   "outputs": [],
   "source": [
    "import pandas as pd"
   ]
  },
  {
   "cell_type": "code",
   "execution_count": 2,
   "metadata": {},
   "outputs": [],
   "source": [
    "aapl = pd.read_csv('AAPL_clean.csv')\n",
    "googl  = pd.read_csv('GOOGL_clean.csv')\n",
    "adbe  = pd.read_csv('ADBE_clean.csv')\n",
    "bidu = pd.read_csv('BIDU_clean.csv')\n",
    "crm =pd.read_csv('CRM_clean.csv')\n",
    "csco = pd.read_csv('CSCO_clean.csv')\n",
    "ibm = pd.read_csv('IBM_clean.csv')\n",
    "intc = pd.read_csv('INTC_clean.csv')\n",
    "msft = pd.read_csv('MSFT_clean.csv')\n",
    "mu = pd.read_csv('MU_clean.csv')\n",
    "nvda = pd.read_csv('NVDA_clean.csv')\n",
    "orcl = pd.read_csv('ORCL_clean.csv')\n",
    "qcom = pd.read_csv('QCOM_clean.csv')\n",
    "txn = pd.read_csv('TXN_clean.csv')"
   ]
  },
  {
   "cell_type": "code",
   "execution_count": 3,
   "metadata": {},
   "outputs": [
    {
     "data": {
      "text/plain": [
       "Index(['Date', 'Open', 'High', 'Low', 'Close', 'Adj Close', 'Volume',\n",
       "       'revenue', 'gross_profit', 'net_income', 'cash_from_operation',\n",
       "       'basic_earning_per_share', 'free_cash_flow', 'market_capital',\n",
       "       'enterprise_value', 'VWAP_volume', 'VWAP_bid_volume_percentage',\n",
       "       'VWAP_ask_volume_percentage', 'px_ask', 'px_bid', 'px_mid', 'px_volume',\n",
       "       'total_analyst_recommendation', 'turn_over', 'egy_rec'],\n",
       "      dtype='object')"
      ]
     },
     "execution_count": 3,
     "metadata": {},
     "output_type": "execute_result"
    }
   ],
   "source": [
    "aapl = aapl.rename(columns={'Revenue':'revenue', 'Gross Profit':'gross_profit','Net Income':'net_income',\n",
    "                    'Cash From Operations ':'cash_from_operation','Basic Earning per share':'basic_earning_per_share',\n",
    "                    'Free Cash Flow to firm':'free_cash_flow','market capitalization':'market_capital',\n",
    "                     'enterprise value':'enterprise_value','VWAP volume':'VWAP_volume', \n",
    "                     'VWAP bid volume percentage':'VWAP_bid_volume_percentage',\n",
    "                            'VWAP ask volume percentage': 'VWAP_ask_volume_percentage',\n",
    "                     'px mid':'px_mid', 'total analyst rec':'total_analyst_recommendation', 'turn over':'turn_over',\n",
    "                              'egy rec':'egy_rec', 'gross profit':'gross_profit','net income':'net_income',\n",
    "                              'cash from operation':'cash_from_operation', 'VWAP bid volume perc':'VWAP_bid_volume_percentage',\n",
    "                             'VWAP bid volume perc':'VWAP_bid_volume_percentage','VWAP ask volume perc':'VWAP_ask_volume_percentage',\n",
    "                              'basic earning per share':'basic_earning_per_share','free cash flow':'free_cash_flow',\n",
    "                            'vwap volume':'VWAP_volume', 'vwap bid vol perc':'VWAP_bid_volume_percentage',\n",
    "                            'vwap ask vol perc':'VWAP_ask_volume_percentage', 'market capital':'market_capital'\n",
    "                             })\n",
    "aapl.columns"
   ]
  },
  {
   "cell_type": "code",
   "execution_count": 4,
   "metadata": {},
   "outputs": [],
   "source": [
    "googl = googl.rename(columns={'Revenue':'revenue', 'Gross Profit':'gross_profit','Net Income':'net_income',\n",
    "                    'Cash From Operations ':'cash_from_operation','Basic Earning per share':'basic_earning_per_share',\n",
    "                    'Free Cash Flow to firm':'free_cash_flow','market capitalization':'market_capital',\n",
    "                     'enterprise value':'enterprise_value','VWAP volume':'VWAP_volume', \n",
    "                     'VWAP bid volume percentage':'VWAP_bid_volume_percentage',\n",
    "                            'VWAP ask volume percentage': 'VWAP_ask_volume_percentage',\n",
    "                     'px mid':'px_mid', 'total analyst rec':'total_analyst_recommendation', 'turn over':'turn_over',\n",
    "                              'egy rec':'egy_rec', 'gross profit':'gross_profit','net income':'net_income',\n",
    "                              'cash from operation':'cash_from_operation', 'VWAP bid volume perc':'VWAP_bid_volume_percentage',\n",
    "                             'VWAP bid volume perc':'VWAP_bid_volume_percentage','VWAP ask volume perc':'VWAP_ask_volume_percentage',\n",
    "                              'basic earning per share':'basic_earning_per_share','free cash flow':'free_cash_flow',\n",
    "                            'vwap volume':'VWAP_volume', 'vwap bid vol perc':'VWAP_bid_volume_percentage',\n",
    "                            'vwap ask vol perc':'VWAP_ask_volume_percentage', 'market capital':'market_capital'\n",
    "                             })"
   ]
  },
  {
   "cell_type": "code",
   "execution_count": 5,
   "metadata": {},
   "outputs": [
    {
     "data": {
      "text/plain": [
       "Index(['Date', 'Open', 'High', 'Low', 'Close', 'Adj Close', 'Volume',\n",
       "       'market_capital', 'enterprise_value', 'revenue', 'gross_profit',\n",
       "       'net_income', 'cash_from_operation', 'basic_earning_per_share',\n",
       "       'free_cash_flow', 'VWAP_volume', 'VWAP_bid_volume_percentage',\n",
       "       'VWAP_ask_volume_percentage', 'px_ask', 'px_bid', 'px_mid', 'px_volume',\n",
       "       'total_analyst_recommendation', 'turn_over', 'egy_rec'],\n",
       "      dtype='object')"
      ]
     },
     "execution_count": 5,
     "metadata": {},
     "output_type": "execute_result"
    }
   ],
   "source": [
    "googl.columns"
   ]
  },
  {
   "cell_type": "code",
   "execution_count": 6,
   "metadata": {},
   "outputs": [],
   "source": [
    "adbe = adbe.rename(columns={'Revenue':'revenue', 'Gross Profit':'gross_profit','Net Income':'net_income',\n",
    "                    'Cash From Operations ':'cash_from_operation','Basic Earning per share':'basic_earning_per_share',\n",
    "                    'Free Cash Flow to firm':'free_cash_flow','market capitalization':'market_capital',\n",
    "                     'enterprise value':'enterprise_value','VWAP volume':'VWAP_volume', \n",
    "                     'VWAP bid volume percentage':'VWAP_bid_volume_percentage',\n",
    "                            'VWAP ask volume percentage': 'VWAP_ask_volume_percentage',\n",
    "                     'px mid':'px_mid', 'total analyst rec':'total_analyst_recommendation', 'turn over':'turn_over',\n",
    "                              'egy rec':'egy_rec', 'gross profit':'gross_profit','net income':'net_income',\n",
    "                              'cash from operation':'cash_from_operation', 'VWAP bid volume perc':'VWAP_bid_volume_percentage',\n",
    "                             'VWAP bid volume perc':'VWAP_bid_volume_percentage','VWAP ask volume perc':'VWAP_ask_volume_percentage',\n",
    "                              'basic earning per share':'basic_earning_per_share','free cash flow':'free_cash_flow',\n",
    "                            'vwap volume':'VWAP_volume', 'vwap bid vol perc':'VWAP_bid_volume_percentage',\n",
    "                            'vwap ask vol perc':'VWAP_ask_volume_percentage', 'market capital':'market_capital'\n",
    "                             })"
   ]
  },
  {
   "cell_type": "code",
   "execution_count": 7,
   "metadata": {},
   "outputs": [
    {
     "data": {
      "text/plain": [
       "Index(['Date', 'Open', 'High', 'Low', 'Close', 'Adj Close', 'Volume',\n",
       "       'market_capital', 'enterprise_value', 'revenue', 'gross_profit',\n",
       "       'net_income', 'cash_from_operation', 'basic_earning_per_share',\n",
       "       'free_cash_flow', 'VWAP_volume', 'VWAP_bid_volume_percentage',\n",
       "       'VWAP_ask_volume_percentage', 'px_mid', 'px_ask', 'px_bid', 'px_volume',\n",
       "       'total_analyst_recommendation', 'turn_over', 'egy_rec'],\n",
       "      dtype='object')"
      ]
     },
     "execution_count": 7,
     "metadata": {},
     "output_type": "execute_result"
    }
   ],
   "source": [
    "adbe.columns"
   ]
  },
  {
   "cell_type": "code",
   "execution_count": 8,
   "metadata": {},
   "outputs": [],
   "source": [
    "bidu = bidu.rename(columns={'Revenue':'revenue', 'Gross Profit':'gross_profit','Net Income':'net_income',\n",
    "                    'Cash From Operations ':'cash_from_operation','Basic Earning per share':'basic_earning_per_share',\n",
    "                    'Free Cash Flow to firm':'free_cash_flow','market capitalization':'market_capital',\n",
    "                     'enterprise value':'enterprise_value','VWAP volume':'VWAP_volume', \n",
    "                     'VWAP bid volume percentage':'VWAP_bid_volume_percentage',\n",
    "                            'VWAP ask volume percentage': 'VWAP_ask_volume_percentage',\n",
    "                     'px mid':'px_mid', 'total analyst rec':'total_analyst_recommendation', 'turn over':'turn_over',\n",
    "                              'egy rec':'egy_rec', 'gross profit':'gross_profit','net income':'net_income',\n",
    "                              'cash from operation':'cash_from_operation', 'VWAP bid volume perc':'VWAP_bid_volume_percentage',\n",
    "                             'VWAP bid volume perc':'VWAP_bid_volume_percentage','VWAP ask volume perc':'VWAP_ask_volume_percentage',\n",
    "                              'basic earning per share':'basic_earning_per_share','free cash flow':'free_cash_flow',\n",
    "                            'vwap volume':'VWAP_volume', 'vwap bid vol perc':'VWAP_bid_volume_percentage',\n",
    "                            'vwap ask vol perc':'VWAP_ask_volume_percentage', 'market capital':'market_capital',\n",
    "                            'market cp':'market_capital','px ask':'px_ask', 'px bid':'px_bid', 'px volume':'px_volume'\n",
    "                             })"
   ]
  },
  {
   "cell_type": "code",
   "execution_count": 9,
   "metadata": {},
   "outputs": [
    {
     "data": {
      "text/plain": [
       "Index(['Date', 'Open', 'High', 'Low', 'Close', 'Adj Close', 'Volume',\n",
       "       'market_capital', 'enterprise_value', 'revenue', 'gross_profit',\n",
       "       'net_income', 'cash_from_operation', 'basic_earning_per_share',\n",
       "       'free_cash_flow', 'VWAP_volume', 'VWAP_bid_volume_percentage',\n",
       "       'VWAP_ask_volume_percentage', 'px_mid', 'px_ask', 'px_bid', 'px_volume',\n",
       "       'total_analyst_recommendation', 'turn_over', 'egy_rec'],\n",
       "      dtype='object')"
      ]
     },
     "execution_count": 9,
     "metadata": {},
     "output_type": "execute_result"
    }
   ],
   "source": [
    "bidu.columns"
   ]
  },
  {
   "cell_type": "code",
   "execution_count": 10,
   "metadata": {},
   "outputs": [],
   "source": [
    "crm = crm.rename(columns={'Revenue':'revenue', 'Gross Profit':'gross_profit','Net Income':'net_income',\n",
    "                    'Cash From Operations ':'cash_from_operation','Basic Earning per share':'basic_earning_per_share',\n",
    "                    'Free Cash Flow to firm':'free_cash_flow','market capitalization':'market_capital',\n",
    "                     'enterprise value':'enterprise_value','VWAP volume':'VWAP_volume', \n",
    "                     'VWAP bid volume percentage':'VWAP_bid_volume_percentage',\n",
    "                            'VWAP ask volume percentage': 'VWAP_ask_volume_percentage',\n",
    "                     'px mid':'px_mid', 'total analyst rec':'total_analyst_recommendation', 'turn over':'turn_over',\n",
    "                              'egy rec':'egy_rec', 'gross profit':'gross_profit','net income':'net_income',\n",
    "                              'cash from operation':'cash_from_operation', 'VWAP bid volume perc':'VWAP_bid_volume_percentage',\n",
    "                             'VWAP bid volume perc':'VWAP_bid_volume_percentage','VWAP ask volume perc':'VWAP_ask_volume_percentage',\n",
    "                              'basic earning per share':'basic_earning_per_share','free cash flow':'free_cash_flow',\n",
    "                            'vwap volume':'VWAP_volume', 'vwap bid vol perc':'VWAP_bid_volume_percentage',\n",
    "                            'vwap ask vol perc':'VWAP_ask_volume_percentage', 'market capital':'market_capital',\n",
    "                            'market cp':'market_capital','px ask':'px_ask', 'px bid':'px_bid', 'px volume':'px_volume',\n",
    "                             'marketcap':'market_capital','enterprisevalue':'enterprise_value', \n",
    "                          'totalrevenue':'revenue', 'totalgrossprofit':'gross_profit',\n",
    "       'netincome':'net_income', 'netcashfromoperatingactivities':'cash_from_operation', 'basiceps':'basic_earning_per_share',\n",
    "       'freecashflow':'free_cash_flow'})"
   ]
  },
  {
   "cell_type": "code",
   "execution_count": 11,
   "metadata": {},
   "outputs": [
    {
     "data": {
      "text/plain": [
       "Index(['Date', 'Open', 'High', 'Low', 'Close', 'Adj Close', 'Volume',\n",
       "       'market_capital', 'enterprise_value', 'revenue', 'gross_profit',\n",
       "       'net_income', 'cash_from_operation', 'basic_earning_per_share',\n",
       "       'free_cash_flow', 'VWAP_volume', 'VWAP_bid_volume_percentage',\n",
       "       'VWAP_ask_volume_percentage', 'px_mid', 'px_ask', 'px_bid', 'px_volume',\n",
       "       'total_analyst_recommendation', 'turn_over', 'egy_rec'],\n",
       "      dtype='object')"
      ]
     },
     "execution_count": 11,
     "metadata": {},
     "output_type": "execute_result"
    }
   ],
   "source": [
    "crm.columns"
   ]
  },
  {
   "cell_type": "code",
   "execution_count": 12,
   "metadata": {},
   "outputs": [],
   "source": [
    "csco =csco.rename(columns={'Revenue':'revenue', 'Gross Profit':'gross_profit','Net Income':'net_income',\n",
    "                    'Cash From Operations ':'cash_from_operation','Basic Earning per share':'basic_earning_per_share',\n",
    "                    'Free Cash Flow to firm':'free_cash_flow','market capitalization':'market_capital',\n",
    "                     'enterprise value':'enterprise_value','VWAP volume':'VWAP_volume', \n",
    "                     'VWAP bid volume percentage':'VWAP_bid_volume_percentage',\n",
    "                            'VWAP ask volume percentage': 'VWAP_ask_volume_percentage',\n",
    "                     'px mid':'px_mid', 'total analyst rec':'total_analyst_recommendation', 'turn over':'turn_over',\n",
    "                              'egy rec':'egy_rec', 'gross profit':'gross_profit','net income':'net_income',\n",
    "                              'cash from operation':'cash_from_operation', 'VWAP bid volume perc':'VWAP_bid_volume_percentage',\n",
    "                             'VWAP bid volume perc':'VWAP_bid_volume_percentage','VWAP ask volume perc':'VWAP_ask_volume_percentage',\n",
    "                              'basic earning per share':'basic_earning_per_share','free cash flow':'free_cash_flow',\n",
    "                            'vwap volume':'VWAP_volume', 'vwap bid vol perc':'VWAP_bid_volume_percentage',\n",
    "                            'vwap ask vol perc':'VWAP_ask_volume_percentage', 'market capital':'market_capital',\n",
    "                            'market cp':'market_capital','px ask':'px_ask', 'px bid':'px_bid', 'px volume':'px_volume',\n",
    "                             'marketcap':'market_capital','enterprisevalue':'enterprise_value', \n",
    "                          'totalrevenue':'revenue', 'totalgrossprofit':'gross_profit',\n",
    "       'netincome':'net_income', 'netcashfromoperatingactivities':'cash_from_operation', 'basiceps':'basic_earning_per_share',\n",
    "       'freecashflow':'free_cash_flow','market capital ':'market_capital','total analyst':'total_analyst_recommendation'})"
   ]
  },
  {
   "cell_type": "code",
   "execution_count": 13,
   "metadata": {},
   "outputs": [
    {
     "data": {
      "text/plain": [
       "Index(['Date', 'Open', 'High', 'Low', 'Close', 'Adj Close', 'Volume',\n",
       "       'market_capital', 'enterprise_value', 'revenue', 'gross_profit',\n",
       "       'net_income', 'cash_from_operation', 'basic_earning_per_share',\n",
       "       'free_cash_flow', 'VWAP_volume', 'VWAP_bid_volume_percentage',\n",
       "       'VWAP_ask_volume_percentage', 'px_ask', 'px_mid', 'px_bid', 'px_volume',\n",
       "       'total_analyst_recommendation', 'turn_over', 'egy_rec'],\n",
       "      dtype='object')"
      ]
     },
     "execution_count": 13,
     "metadata": {},
     "output_type": "execute_result"
    }
   ],
   "source": [
    "csco.columns"
   ]
  },
  {
   "cell_type": "code",
   "execution_count": 14,
   "metadata": {},
   "outputs": [],
   "source": [
    "ibm =ibm.rename(columns={'Revenue':'revenue', 'Gross Profit':'gross_profit','Net Income':'net_income',\n",
    "                    'Cash From Operations ':'cash_from_operation','Basic Earning per share':'basic_earning_per_share',\n",
    "                    'Free Cash Flow to firm':'free_cash_flow','market capitalization':'market_capital',\n",
    "                     'enterprise value':'enterprise_value','VWAP volume':'VWAP_volume', \n",
    "                     'VWAP bid volume percentage':'VWAP_bid_volume_percentage',\n",
    "                            'VWAP ask volume percentage': 'VWAP_ask_volume_percentage',\n",
    "                     'px mid':'px_mid', 'total analyst rec':'total_analyst_recommendation', 'turn over':'turn_over',\n",
    "                              'egy rec':'egy_rec', 'gross profit':'gross_profit','net income':'net_income',\n",
    "                              'cash from operation':'cash_from_operation', 'VWAP bid volume perc':'VWAP_bid_volume_percentage',\n",
    "                             'VWAP bid volume perc':'VWAP_bid_volume_percentage','VWAP ask volume perc':'VWAP_ask_volume_percentage',\n",
    "                              'basic earning per share':'basic_earning_per_share','free cash flow':'free_cash_flow',\n",
    "                            'vwap volume':'VWAP_volume', 'vwap bid vol perc':'VWAP_bid_volume_percentage',\n",
    "                            'vwap ask vol perc':'VWAP_ask_volume_percentage', 'market capital':'market_capital',\n",
    "                            'market cp':'market_capital','px ask':'px_ask', 'px bid':'px_bid', 'px volume':'px_volume',\n",
    "                             'marketcap':'market_capital','enterprisevalue':'enterprise_value', \n",
    "                          'totalrevenue':'revenue', 'totalgrossprofit':'gross_profit',\n",
    "       'netincome':'net_income', 'netcashfromoperatingactivities':'cash_from_operation', 'basiceps':'basic_earning_per_share',\n",
    "       'freecashflow':'free_cash_flow','market capital ':'market_capital','total analyst':'total_analyst_recommendation',\n",
    "                        'VWAP vol':'VWAP_volume'})"
   ]
  },
  {
   "cell_type": "code",
   "execution_count": 15,
   "metadata": {},
   "outputs": [
    {
     "data": {
      "text/plain": [
       "Index(['Date', 'Open', 'High', 'Low', 'Close', 'Adj Close', 'Volume',\n",
       "       'market_capital', 'enterprise_value', 'revenue', 'gross_profit',\n",
       "       'net_income', 'cash_from_operation', 'basic_earning_per_share',\n",
       "       'free_cash_flow', 'VWAP_volume', 'VWAP_bid_volume_percentage',\n",
       "       'VWAP_ask_volume_percentage', 'px_mid', 'px_ask', 'px_bid', 'px_volume',\n",
       "       'total_analyst_recommendation', 'turn_over', 'egy_rec'],\n",
       "      dtype='object')"
      ]
     },
     "execution_count": 15,
     "metadata": {},
     "output_type": "execute_result"
    }
   ],
   "source": [
    "ibm.columns"
   ]
  },
  {
   "cell_type": "code",
   "execution_count": 16,
   "metadata": {},
   "outputs": [],
   "source": [
    "intc = intc.rename(columns={'Revenue':'revenue', 'Gross Profit':'gross_profit','Net Income':'net_income',\n",
    "                    'Cash From Operations ':'cash_from_operation','Basic Earning per share':'basic_earning_per_share',\n",
    "                    'Free Cash Flow to firm':'free_cash_flow','market capitalization':'market_capital',\n",
    "                     'enterprise value':'enterprise_value','VWAP volume':'VWAP_volume', \n",
    "                     'VWAP bid volume percentage':'VWAP_bid_volume_percentage',\n",
    "                            'VWAP ask volume percentage': 'VWAP_ask_volume_percentage',\n",
    "                     'px mid':'px_mid', 'total analyst rec':'total_analyst_recommendation', 'turn over':'turn_over',\n",
    "                              'egy rec':'egy_rec', 'gross profit':'gross_profit','net income':'net_income',\n",
    "                              'cash from operation':'cash_from_operation', 'VWAP bid volume perc':'VWAP_bid_volume_percentage',\n",
    "                             'VWAP bid volume perc':'VWAP_bid_volume_percentage','VWAP ask volume perc':'VWAP_ask_volume_percentage',\n",
    "                              'basic earning per share':'basic_earning_per_share','free cash flow':'free_cash_flow',\n",
    "                            'vwap volume':'VWAP_volume', 'vwap bid vol perc':'VWAP_bid_volume_percentage',\n",
    "                            'vwap ask vol perc':'VWAP_ask_volume_percentage', 'market capital':'market_capital',\n",
    "                            'market cp':'market_capital','px ask':'px_ask', 'px bid':'px_bid', 'px volume':'px_volume',\n",
    "                             'marketcap':'market_capital','enterprisevalue':'enterprise_value', \n",
    "                          'totalrevenue':'revenue', 'totalgrossprofit':'gross_profit',\n",
    "       'netincome':'net_income', 'netcashfromoperatingactivities':'cash_from_operation', 'basiceps':'basic_earning_per_share',\n",
    "       'freecashflow':'free_cash_flow','market capital ':'market_capital','total analyst':'total_analyst_recommendation',\n",
    "                        'VWAP vol':'VWAP_volume','vwap bid volume perc':'VWAP_bid_volume_percentage',\n",
    "       'vwap ask volume perc':'VWAP_ask_volume_percentage','turn over ':'turn_over'})"
   ]
  },
  {
   "cell_type": "code",
   "execution_count": 17,
   "metadata": {},
   "outputs": [
    {
     "data": {
      "text/plain": [
       "Index(['Date', 'Open', 'High', 'Low', 'Close', 'Adj Close', 'Volume',\n",
       "       'market_capital', 'enterprise_value', 'revenue', 'gross_profit',\n",
       "       'net_income', 'cash_from_operation', 'basic_earning_per_share',\n",
       "       'free_cash_flow', 'VWAP_volume', 'VWAP_bid_volume_percentage',\n",
       "       'VWAP_ask_volume_percentage', 'px_ask', 'px_bid', 'px_mid', 'px_volume',\n",
       "       'total_analyst_recommendation', 'turn_over', 'egy_rec'],\n",
       "      dtype='object')"
      ]
     },
     "execution_count": 17,
     "metadata": {},
     "output_type": "execute_result"
    }
   ],
   "source": [
    "intc.columns"
   ]
  },
  {
   "cell_type": "code",
   "execution_count": 18,
   "metadata": {},
   "outputs": [],
   "source": [
    "msft = msft.rename(columns={'Revenue':'revenue', 'Gross Profit':'gross_profit','Net Income':'net_income',\n",
    "                    'Cash From Operations ':'cash_from_operation','Basic Earning per share':'basic_earning_per_share',\n",
    "                    'Free Cash Flow to firm':'free_cash_flow','market capitalization':'market_capital',\n",
    "                     'enterprise value':'enterprise_value','VWAP volume':'VWAP_volume', \n",
    "                     'VWAP bid volume percentage':'VWAP_bid_volume_percentage',\n",
    "                            'VWAP ask volume percentage': 'VWAP_ask_volume_percentage',\n",
    "                     'px mid':'px_mid', 'total analyst rec':'total_analyst_recommendation', 'turn over':'turn_over',\n",
    "                              'egy rec':'egy_rec', 'gross profit':'gross_profit','net income':'net_income',\n",
    "                              'cash from operation':'cash_from_operation', 'VWAP bid volume perc':'VWAP_bid_volume_percentage',\n",
    "                             'VWAP bid volume perc':'VWAP_bid_volume_percentage','VWAP ask volume perc':'VWAP_ask_volume_percentage',\n",
    "                              'basic earning per share':'basic_earning_per_share','free cash flow':'free_cash_flow',\n",
    "                            'vwap volume':'VWAP_volume', 'vwap bid vol perc':'VWAP_bid_volume_percentage',\n",
    "                            'vwap ask vol perc':'VWAP_ask_volume_percentage', 'market capital':'market_capital',\n",
    "                            'market cp':'market_capital','px ask':'px_ask', 'px bid':'px_bid', 'px volume':'px_volume',\n",
    "                             'marketcap':'market_capital','enterprisevalue':'enterprise_value', \n",
    "                          'totalrevenue':'revenue', 'totalgrossprofit':'gross_profit',\n",
    "       'netincome':'net_income', 'netcashfromoperatingactivities':'cash_from_operation', 'basiceps':'basic_earning_per_share',\n",
    "       'freecashflow':'free_cash_flow','market capital ':'market_capital','total analyst':'total_analyst_recommendation',\n",
    "                        'VWAP vol':'VWAP_volume','vwap bid volume perc':'VWAP_bid_volume_percentage',\n",
    "       'vwap ask volume perc':'VWAP_ask_volume_percentage','turn over ':'turn_over'})"
   ]
  },
  {
   "cell_type": "code",
   "execution_count": 19,
   "metadata": {},
   "outputs": [
    {
     "data": {
      "text/plain": [
       "Index(['Date', 'Open', 'High', 'Low', 'Close', 'Adj Close', 'Volume',\n",
       "       'revenue', 'gross_profit', 'net_income', 'cash_from_operation',\n",
       "       'basic_earning_per_share', 'free_cash_flow', 'market_capital',\n",
       "       'enterprise_value', 'VWAP_volume', 'VWAP_bid_volume_percentage',\n",
       "       'VWAP_ask_volume_percentage', 'px_ask', 'px_mid', 'px_bid', 'px_volume',\n",
       "       'total_analyst_recommendation', 'turn_over', 'egy_rec'],\n",
       "      dtype='object')"
      ]
     },
     "execution_count": 19,
     "metadata": {},
     "output_type": "execute_result"
    }
   ],
   "source": [
    "msft.columns"
   ]
  },
  {
   "cell_type": "code",
   "execution_count": 20,
   "metadata": {},
   "outputs": [],
   "source": [
    "mu = mu.rename(columns={'Revenue':'revenue', 'Gross Profit':'gross_profit','Net Income':'net_income',\n",
    "                    'Cash From Operations ':'cash_from_operation','Basic Earning per share':'basic_earning_per_share',\n",
    "                    'Free Cash Flow to firm':'free_cash_flow','market capitalization':'market_capital',\n",
    "                     'enterprise value':'enterprise_value','VWAP volume':'VWAP_volume', \n",
    "                     'VWAP bid volume percentage':'VWAP_bid_volume_percentage',\n",
    "                            'VWAP ask volume percentage': 'VWAP_ask_volume_percentage',\n",
    "                     'px mid':'px_mid', 'total analyst rec':'total_analyst_recommendation', 'turn over':'turn_over',\n",
    "                              'egy rec':'egy_rec', 'gross profit':'gross_profit','net income':'net_income',\n",
    "                              'cash from operation':'cash_from_operation', 'VWAP bid volume perc':'VWAP_bid_volume_percentage',\n",
    "                             'VWAP bid volume perc':'VWAP_bid_volume_percentage','VWAP ask volume perc':'VWAP_ask_volume_percentage',\n",
    "                              'basic earning per share':'basic_earning_per_share','free cash flow':'free_cash_flow',\n",
    "                            'vwap volume':'VWAP_volume', 'vwap bid vol perc':'VWAP_bid_volume_percentage',\n",
    "                            'vwap ask vol perc':'VWAP_ask_volume_percentage', 'market capital':'market_capital',\n",
    "                            'market cp':'market_capital','px ask':'px_ask', 'px bid':'px_bid', 'px volume':'px_volume',\n",
    "                             'marketcap':'market_capital','enterprisevalue':'enterprise_value', \n",
    "                          'totalrevenue':'revenue', 'totalgrossprofit':'gross_profit',\n",
    "       'netincome':'net_income', 'netcashfromoperatingactivities':'cash_from_operation', 'basiceps':'basic_earning_per_share',\n",
    "       'freecashflow':'free_cash_flow','market capital ':'market_capital','total analyst':'total_analyst_recommendation',\n",
    "                        'VWAP vol':'VWAP_volume','vwap bid volume perc':'VWAP_bid_volume_percentage',\n",
    "       'vwap ask volume perc':'VWAP_ask_volume_percentage','turn over ':'turn_over','px ask ':'px_ask'})"
   ]
  },
  {
   "cell_type": "code",
   "execution_count": 21,
   "metadata": {},
   "outputs": [
    {
     "data": {
      "text/plain": [
       "Index(['Date', 'Open', 'High', 'Low', 'Close', 'Adj Close', 'Volume',\n",
       "       'market_capital', 'enterprise_value', 'revenue', 'gross_profit',\n",
       "       'net_income', 'cash_from_operation', 'basic_earning_per_share',\n",
       "       'free_cash_flow', 'VWAP_volume', 'VWAP_bid_volume_percentage',\n",
       "       'VWAP_ask_volume_percentage', 'px_mid', 'px_ask', 'px_bid', 'px_volume',\n",
       "       'total_analyst_recommendation', 'turn_over', 'egy_rec'],\n",
       "      dtype='object')"
      ]
     },
     "execution_count": 21,
     "metadata": {},
     "output_type": "execute_result"
    }
   ],
   "source": [
    "mu.columns"
   ]
  },
  {
   "cell_type": "code",
   "execution_count": 22,
   "metadata": {},
   "outputs": [],
   "source": [
    "nvda = nvda.rename(columns={'Revenue':'revenue', 'Gross Profit':'gross_profit','Net Income':'net_income',\n",
    "                    'Cash From Operations ':'cash_from_operation','Basic Earning per share':'basic_earning_per_share',\n",
    "                    'Free Cash Flow to firm':'free_cash_flow','market capitalization':'market_capital',\n",
    "                     'enterprise value':'enterprise_value','VWAP volume':'VWAP_volume', \n",
    "                     'VWAP bid volume percentage':'VWAP_bid_volume_percentage',\n",
    "                            'VWAP ask volume percentage': 'VWAP_ask_volume_percentage',\n",
    "                     'px mid':'px_mid', 'total analyst rec':'total_analyst_recommendation', 'turn over':'turn_over',\n",
    "                              'egy rec':'egy_rec', 'gross profit':'gross_profit','net income':'net_income',\n",
    "                              'cash from operation':'cash_from_operation', 'VWAP bid volume perc':'VWAP_bid_volume_percentage',\n",
    "                             'VWAP bid volume perc':'VWAP_bid_volume_percentage','VWAP ask volume perc':'VWAP_ask_volume_percentage',\n",
    "                              'basic earning per share':'basic_earning_per_share','free cash flow':'free_cash_flow',\n",
    "                            'vwap volume':'VWAP_volume', 'vwap bid vol perc':'VWAP_bid_volume_percentage',\n",
    "                            'vwap ask vol perc':'VWAP_ask_volume_percentage', 'market capital':'market_capital',\n",
    "                            'market cp':'market_capital','px ask':'px_ask', 'px bid':'px_bid', 'px volume':'px_volume',\n",
    "                             'marketcap':'market_capital','enterprisevalue':'enterprise_value', \n",
    "                          'totalrevenue':'revenue', 'totalgrossprofit':'gross_profit',\n",
    "       'netincome':'net_income', 'netcashfromoperatingactivities':'cash_from_operation', 'basiceps':'basic_earning_per_share',\n",
    "       'freecashflow':'free_cash_flow','market capital ':'market_capital','total analyst':'total_analyst_recommendation',\n",
    "                        'VWAP vol':'VWAP_volume','vwap bid volume perc':'VWAP_bid_volume_percentage',\n",
    "       'vwap ask volume perc':'VWAP_ask_volume_percentage','turn over ':'turn_over','px ask ':'px_ask'})"
   ]
  },
  {
   "cell_type": "code",
   "execution_count": 23,
   "metadata": {},
   "outputs": [],
   "source": [
    "orcl = orcl.rename(columns={'Revenue':'revenue', 'Gross Profit':'gross_profit','Net Income':'net_income',\n",
    "                    'Cash From Operations ':'cash_from_operation','Basic Earning per share':'basic_earning_per_share',\n",
    "                    'Free Cash Flow to firm':'free_cash_flow','market capitalization':'market_capital',\n",
    "                     'enterprise value':'enterprise_value','VWAP volume':'VWAP_volume', \n",
    "                     'VWAP bid volume percentage':'VWAP_bid_volume_percentage',\n",
    "                            'VWAP ask volume percentage': 'VWAP_ask_volume_percentage',\n",
    "                     'px mid':'px_mid', 'total analyst rec':'total_analyst_recommendation', 'turn over':'turn_over',\n",
    "                              'egy rec':'egy_rec', 'gross profit':'gross_profit','net income':'net_income',\n",
    "                              'cash from operation':'cash_from_operation', 'VWAP bid volume perc':'VWAP_bid_volume_percentage',\n",
    "                             'VWAP bid volume perc':'VWAP_bid_volume_percentage','VWAP ask volume perc':'VWAP_ask_volume_percentage',\n",
    "                              'basic earning per share':'basic_earning_per_share','free cash flow':'free_cash_flow',\n",
    "                            'vwap volume':'VWAP_volume', 'vwap bid vol perc':'VWAP_bid_volume_percentage',\n",
    "                            'vwap ask vol perc':'VWAP_ask_volume_percentage', 'market capital':'market_capital',\n",
    "                            'market cp':'market_capital','px ask':'px_ask', 'px bid':'px_bid', 'px volume':'px_volume',\n",
    "                             'marketcap':'market_capital','enterprisevalue':'enterprise_value', \n",
    "                          'totalrevenue':'revenue', 'totalgrossprofit':'gross_profit',\n",
    "       'netincome':'net_income', 'netcashfromoperatingactivities':'cash_from_operation', 'basiceps':'basic_earning_per_share',\n",
    "       'freecashflow':'free_cash_flow','market capital ':'market_capital','total analyst':'total_analyst_recommendation',\n",
    "                        'VWAP vol':'VWAP_volume','vwap bid volume perc':'VWAP_bid_volume_percentage',\n",
    "       'vwap ask volume perc':'VWAP_ask_volume_percentage','turn over ':'turn_over','px ask ':'px_ask',\n",
    "                           'VWAP ask vol perc':'VWAP_ask_volume_percentage'})"
   ]
  },
  {
   "cell_type": "code",
   "execution_count": 24,
   "metadata": {},
   "outputs": [
    {
     "data": {
      "text/plain": [
       "Index(['Date', 'Open', 'High', 'Low', 'Close', 'Adj Close', 'Volume',\n",
       "       'market_capital', 'enterprise_value', 'revenue', 'gross_profit',\n",
       "       'net_income', 'cash_from_operation', 'basic_earning_per_share',\n",
       "       'free_cash_flow', 'VWAP_volume', 'VWAP_bid_volume_percentage',\n",
       "       'VWAP_ask_volume_percentage', 'px_mid', 'px_ask', 'px_bid', 'px_volume',\n",
       "       'total_analyst_recommendation', 'turn_over', 'egy_rec'],\n",
       "      dtype='object')"
      ]
     },
     "execution_count": 24,
     "metadata": {},
     "output_type": "execute_result"
    }
   ],
   "source": [
    "orcl.columns"
   ]
  },
  {
   "cell_type": "code",
   "execution_count": 25,
   "metadata": {},
   "outputs": [],
   "source": [
    "qcom = qcom.rename(columns={'Revenue':'revenue', 'Gross Profit':'gross_profit','Net Income':'net_income',\n",
    "                    'Cash From Operations ':'cash_from_operation','Basic Earning per share':'basic_earning_per_share',\n",
    "                    'Free Cash Flow to firm':'free_cash_flow','market capitalization':'market_capital',\n",
    "                     'enterprise value':'enterprise_value','VWAP volume':'VWAP_volume', \n",
    "                     'VWAP bid volume percentage':'VWAP_bid_volume_percentage',\n",
    "                            'VWAP ask volume percentage': 'VWAP_ask_volume_percentage',\n",
    "                     'px mid':'px_mid', 'total analyst rec':'total_analyst_recommendation', 'turn over':'turn_over',\n",
    "                              'egy rec':'egy_rec', 'gross profit':'gross_profit','net income':'net_income',\n",
    "                              'cash from operation':'cash_from_operation', 'VWAP bid volume perc':'VWAP_bid_volume_percentage',\n",
    "                             'VWAP bid volume perc':'VWAP_bid_volume_percentage','VWAP ask volume perc':'VWAP_ask_volume_percentage',\n",
    "                              'basic earning per share':'basic_earning_per_share','free cash flow':'free_cash_flow',\n",
    "                            'vwap volume':'VWAP_volume', 'vwap bid vol perc':'VWAP_bid_volume_percentage',\n",
    "                            'vwap ask vol perc':'VWAP_ask_volume_percentage', 'market capital':'market_capital',\n",
    "                            'market cp':'market_capital','px ask':'px_ask', 'px bid':'px_bid', 'px volume':'px_volume',\n",
    "                             'marketcap':'market_capital','enterprisevalue':'enterprise_value', \n",
    "                          'totalrevenue':'revenue', 'totalgrossprofit':'gross_profit',\n",
    "       'netincome':'net_income', 'netcashfromoperatingactivities':'cash_from_operation', 'basiceps':'basic_earning_per_share',\n",
    "       'freecashflow':'free_cash_flow','market capital ':'market_capital','total analyst':'total_analyst_recommendation',\n",
    "                        'VWAP vol':'VWAP_volume','vwap bid volume perc':'VWAP_bid_volume_percentage',\n",
    "       'vwap ask volume perc':'VWAP_ask_volume_percentage','turn over ':'turn_over','px ask ':'px_ask',\n",
    "                           'VWAP ask vol perc':'VWAP_ask_volume_percentage','market cap':'market_capital',\n",
    "                          'total anlayst rec': 'total_analyst_recommendation'})"
   ]
  },
  {
   "cell_type": "code",
   "execution_count": 26,
   "metadata": {},
   "outputs": [
    {
     "data": {
      "text/plain": [
       "Index(['Date', 'Open', 'High', 'Low', 'Close', 'Adj Close', 'Volume',\n",
       "       'market_capital', 'enterprise_value', 'revenue', 'gross_profit',\n",
       "       'net_income', 'cash_from_operation', 'basic_earning_per_share',\n",
       "       'free_cash_flow', 'VWAP_volume', 'VWAP_bid_volume_percentage',\n",
       "       'VWAP_ask_volume_percentage', 'px_mid', 'px_ask', 'px_bid', 'px_volume',\n",
       "       'total_analyst_recommendation', 'turn_over', 'egy_rec'],\n",
       "      dtype='object')"
      ]
     },
     "execution_count": 26,
     "metadata": {},
     "output_type": "execute_result"
    }
   ],
   "source": [
    "qcom.columns"
   ]
  },
  {
   "cell_type": "code",
   "execution_count": 27,
   "metadata": {},
   "outputs": [],
   "source": [
    "txn = txn.rename(columns={'Revenue':'revenue', 'Gross Profit':'gross_profit','Net Income':'net_income',\n",
    "                    'Cash From Operations ':'cash_from_operation','Basic Earning per share':'basic_earning_per_share',\n",
    "                    'Free Cash Flow to firm':'free_cash_flow','market capitalization':'market_capital',\n",
    "                     'enterprise value':'enterprise_value','VWAP volume':'VWAP_volume', \n",
    "                     'VWAP bid volume percentage':'VWAP_bid_volume_percentage',\n",
    "                            'VWAP ask volume percentage': 'VWAP_ask_volume_percentage',\n",
    "                     'px mid':'px_mid', 'total analyst rec':'total_analyst_recommendation', 'turn over':'turn_over',\n",
    "                              'egy rec':'egy_rec', 'gross profit':'gross_profit','net income':'net_income',\n",
    "                              'cash from operation':'cash_from_operation', 'VWAP bid volume perc':'VWAP_bid_volume_percentage',\n",
    "                             'VWAP bid volume perc':'VWAP_bid_volume_percentage','VWAP ask volume perc':'VWAP_ask_volume_percentage',\n",
    "                              'basic earning per share':'basic_earning_per_share','free cash flow':'free_cash_flow',\n",
    "                            'vwap volume':'VWAP_volume', 'vwap bid vol perc':'VWAP_bid_volume_percentage',\n",
    "                            'vwap ask vol perc':'VWAP_ask_volume_percentage', 'market capital':'market_capital',\n",
    "                            'market cp':'market_capital','px ask':'px_ask', 'px bid':'px_bid', 'px volume':'px_volume',\n",
    "                             'marketcap':'market_capital','enterprisevalue':'enterprise_value', \n",
    "                          'totalrevenue':'revenue', 'totalgrossprofit':'gross_profit',\n",
    "       'netincome':'net_income', 'netcashfromoperatingactivities':'cash_from_operation', 'basiceps':'basic_earning_per_share',\n",
    "       'freecashflow':'free_cash_flow','market capital ':'market_capital','total analyst':'total_analyst_recommendation',\n",
    "                        'VWAP vol':'VWAP_volume','vwap bid volume perc':'VWAP_bid_volume_percentage',\n",
    "       'vwap ask volume perc':'VWAP_ask_volume_percentage','turn over ':'turn_over','px ask ':'px_ask',\n",
    "                           'VWAP ask vol perc':'VWAP_ask_volume_percentage','market cap':'market_capital',\n",
    "                          'total anlayst rec': 'total_analyst_recommendation'})"
   ]
  },
  {
   "cell_type": "code",
   "execution_count": 28,
   "metadata": {},
   "outputs": [
    {
     "name": "stdout",
     "output_type": "stream",
     "text": [
      "1\n"
     ]
    }
   ],
   "source": [
    "if set(googl.columns) == set(txn.columns):\n",
    "    print(1)"
   ]
  },
  {
   "cell_type": "code",
   "execution_count": 29,
   "metadata": {},
   "outputs": [],
   "source": [
    "aapl.to_csv('AAPL_clean.csv', index=False)\n",
    "googl.to_csv('GOOGL_clean.csv',index=False)\n",
    "adbe.to_csv('ADBE_clean.csv',index=False)\n",
    "bidu.to_csv('BIDU_clean.csv',index=False)\n",
    "crm.to_csv('CRM_clean.csv',index=False)\n",
    "csco.to_csv('CSCO_clean.csv',index=False)\n",
    "ibm.to_csv('IBM_clean.csv',index=False)\n",
    "intc.to_csv('INTC_clean.csv',index=False)\n",
    "msft.to_csv('MSFT_clean.csv',index=False)\n",
    "mu.to_csv('MU_clean.csv',index=False)\n",
    "nvda.to_csv('NVDA_clean.csv',index=False)\n",
    "orcl.to_csv('ORCL_clean.csv',index=False)\n",
    "qcom.to_csv('QCOM_clean.csv',index=False)\n",
    "txn.to_csv('TXN_clean.csv',index=False)"
   ]
  },
  {
   "cell_type": "code",
   "execution_count": null,
   "metadata": {},
   "outputs": [],
   "source": []
  }
 ],
 "metadata": {
  "kernelspec": {
   "display_name": "Python 3",
   "language": "python",
   "name": "python3"
  },
  "language_info": {
   "codemirror_mode": {
    "name": "ipython",
    "version": 3
   },
   "file_extension": ".py",
   "mimetype": "text/x-python",
   "name": "python",
   "nbconvert_exporter": "python",
   "pygments_lexer": "ipython3",
   "version": "3.6.4"
  }
 },
 "nbformat": 4,
 "nbformat_minor": 2
}
